{
 "cells": [
  {
   "cell_type": "markdown",
   "metadata": {},
   "source": [
    "INTAROS - IMR Dataset - RGeostats Workshop Course\n",
    "============================\n",
    "\n",
    "**authors**: D. Renard, F. Ors\n",
    "\n",
    "**date**: July 4th 2022\n",
    "\n",
    "# Introduction\n",
    "\n",
    "This paper is meant to demonstrate how to use some scripts to learn on how to use **Geostatistics**. This case study is based on the use of **RGeostats** and scripts developed in the scope of **Intaros** workshop. \n",
    "This notebook has been obtained by running the following command:\n",
    "\n",
    "<pre>notedown rmd/geostats_course.Rmd --rmagic > geostats_course.ipynb</pre>\n",
    "\n",
    "The next cells have specific contents that the user must choose to run or to skip. Their order is important.\n",
    "\n",
    "- Loading the library **Intaros** and cancel any possible projection"
   ]
  },
  {
   "cell_type": "code",
   "execution_count": null,
   "metadata": {
    "attributes": {
     "classes": [],
     "id": "",
     "message": "FALSE,",
     "warning": "FALSE"
    }
   },
   "outputs": [],
   "source": [
    "suppressWarnings(suppressPackageStartupMessages(library(RIntaros)))\n",
    "suppressWarnings(suppressPackageStartupMessages(library(mapdata)))\n",
    "projec.toggle(0)"
   ]
  },
  {
   "cell_type": "markdown",
   "metadata": {},
   "source": [
    "- Cleaning the workspace: this paragraph is not systematically performed."
   ]
  },
  {
   "cell_type": "code",
   "execution_count": null,
   "metadata": {
    "attributes": {
     "classes": [],
     "eval": "FALSE",
     "id": ""
    }
   },
   "outputs": [],
   "source": [
    "rm(list=ls())"
   ]
  },
  {
   "cell_type": "markdown",
   "metadata": {},
   "source": [
    "## Loading Data\n",
    "\n",
    "It is based on the **Annual CTD datasets** from Norwegion Institute of Marine Research (IMR). For better efficiency, the dataset has been simplified by:\n",
    "\n",
    "- reducing the values when the depth lies between 0m and 100m\n",
    "- regrouping (and averaging) the data by benches of 10m high\n",
    "- the data set is read from a CSV external file"
   ]
  },
  {
   "cell_type": "code",
   "execution_count": null,
   "metadata": {},
   "outputs": [],
   "source": [
    "setRefDate(\"1950/01/01\")\n",
    "dir.name   = getwd()\n",
    "data.name  = \"data\"\n",
    "file.name  = \"imr_data_by_10m.csv\"\n",
    "db0        = imr_read_csv(file.path(dir.name,data.name,file.name))"
   ]
  },
  {
   "cell_type": "markdown",
   "metadata": {},
   "source": [
    "For the sake of this short demonstration, we focus on a small area (located close to the Norvegian coast)"
   ]
  },
  {
   "cell_type": "code",
   "execution_count": null,
   "metadata": {
    "attributes": {
     "": "",
     "classes": [],
     "id": ""
    }
   },
   "outputs": [],
   "source": [
    "long_lim   = c(-2,10)\n",
    "lat_lim    = c(56,62)\n",
    "image.name = \"images\"\n",
    "intaros.save.environ(long_lim = long_lim, lat_lim = lat_lim,\n",
    "                     flag_file = FALSE,image_name = file.path(dir.name,image.name))"
   ]
  },
  {
   "cell_type": "markdown",
   "metadata": {},
   "source": [
    "# Basic statistics\n",
    "\n",
    "This paragraph allows the user to check some functions for getting basic statistics, such as:\n",
    "\n",
    "- defining global information: sampling duration, color setting"
   ]
  },
  {
   "cell_type": "code",
   "execution_count": null,
   "metadata": {
    "attributes": {
     "": "",
     "classes": [],
     "id": ""
    }
   },
   "outputs": [],
   "source": [
    "years      = subyears = get_db_limits_year(db0)\n",
    "trimesters = subtrims = seq(1,4)\n",
    "colyears   = rg.colors(length(years))\n",
    "cat(build_title(\"The dataset period is:\",time2date(get_db_limits_time(db0))))"
   ]
  },
  {
   "cell_type": "markdown",
   "metadata": {},
   "source": [
    "- check the contents of the data base"
   ]
  },
  {
   "cell_type": "code",
   "execution_count": null,
   "metadata": {
    "attributes": {
     "": "",
     "classes": [],
     "id": ""
    }
   },
   "outputs": [],
   "source": [
    "db0"
   ]
  },
  {
   "cell_type": "markdown",
   "metadata": {},
   "source": [
    "- getting some basic statistics on the different variables"
   ]
  },
  {
   "cell_type": "code",
   "execution_count": null,
   "metadata": {},
   "outputs": [],
   "source": [
    "db.stat.print(db0,funs=c(\"num\",\"mini\",\"maxi\",\"mean\"),\n",
    "              names=c(\"Longitude\",\"Latitude\",\"Depth\",\"Temperature\",\"Conductivity\",\"Salinity\"))"
   ]
  },
  {
   "cell_type": "markdown",
   "metadata": {},
   "source": [
    "- display of the data (all data, for all years and all depths)"
   ]
  },
  {
   "cell_type": "code",
   "execution_count": null,
   "metadata": {
    "attributes": {
     "": "",
     "classes": [],
     "id": ""
    }
   },
   "outputs": [],
   "source": [
    "var = \"Temperature\"\n",
    "colors.temp = rg.colors(rank=1)\n",
    "colors.std  = heat.colors(100)\n",
    "var_scale0 = get_db_limits_var(db0,var)\n",
    "display_var(db0, var = var, var_scale = var_scale0, colors = colors.temp, title = var, \n",
    "            filename = var, flag.mesh = TRUE, mesh = 1, flag.coast = TRUE)"
   ]
  },
  {
   "cell_type": "markdown",
   "metadata": {},
   "source": [
    "- histogram of Temperature"
   ]
  },
  {
   "cell_type": "code",
   "execution_count": null,
   "metadata": {},
   "outputs": [],
   "source": [
    "hist(db0[,\"Temp*\"],breaks=100,xlab=\"Temperatures\",main=\"\")"
   ]
  },
  {
   "cell_type": "markdown",
   "metadata": {},
   "source": [
    "- correlation between variables"
   ]
  },
  {
   "cell_type": "code",
   "execution_count": null,
   "metadata": {},
   "outputs": [],
   "source": [
    "rho = correlation(db0,\"Temperature\",\"Salinity\",title=\"Salinity vs. Temperature\",flag.regr=TRUE)\n",
    "cat(\"Correlation coefficient=\",rho,\"\\n\")"
   ]
  },
  {
   "cell_type": "markdown",
   "metadata": {},
   "source": [
    "- range of depths"
   ]
  },
  {
   "cell_type": "code",
   "execution_count": null,
   "metadata": {},
   "outputs": [],
   "source": [
    "db.print(db0,names=\"Depth\",flag.stats=TRUE)"
   ]
  },
  {
   "cell_type": "markdown",
   "metadata": {},
   "source": [
    "We also learn how to apply some statistics on a sub-sample by performing a **selection**. The argument **var_scale** is defined to set the range of values used for color rendition."
   ]
  },
  {
   "cell_type": "code",
   "execution_count": null,
   "metadata": {},
   "outputs": [],
   "source": [
    "var       = \"Temperature\"\n",
    "year      = 2000\n",
    "date_lim  = create_limits_date(year)\n",
    "db        = apply_sel(db0, date_lim=date_lim)\n",
    "var_scale = get_db_limits_var(db,var)\n",
    "title     = build_title(var, date_lim)\n",
    "filename  = paste0(var,\"_Year_\",year)\n",
    "  \n",
    "display_var(db, var, var_scale = var_scale, colors = colors.temp,\n",
    "            title = title, filename = filename,\n",
    "            flag.mesh = TRUE, mesh = 1, flag.coast = TRUE)"
   ]
  },
  {
   "cell_type": "markdown",
   "metadata": {},
   "source": [
    "- statistics per block (on the same selection as before)"
   ]
  },
  {
   "cell_type": "code",
   "execution_count": null,
   "metadata": {
    "attributes": {
     "": "",
     "classes": [],
     "id": ""
    }
   },
   "outputs": [],
   "source": [
    "var       = \"Temperature\"\n",
    "year      = 2000\n",
    "date_lim  = create_limits_date(year)\n",
    "db        = apply_sel(db0, date_lim = date_lim)\n",
    "var_scale = get_db_limits_var(db,var)\n",
    "title     = paste(\"Block Average for\", build_title(var, date_lim))\n",
    "dbg       = stats_grid(db, var, fun = \"mean\", mesh = 0.5, verbose = FALSE)\n",
    "filename  = paste0(var,\"_Year_\",year)\n",
    "\n",
    "display_stats(dbg, var, var_scale = var_scale, colors = colors.temp,\n",
    "              title = title, filename = filename,\n",
    "              flag.mesh = TRUE, mesh = 1, flag.coast = TRUE)"
   ]
  },
  {
   "cell_type": "markdown",
   "metadata": {},
   "source": [
    "- calculating the mean and variance for each year, at 25m depth"
   ]
  },
  {
   "cell_type": "code",
   "execution_count": null,
   "metadata": {},
   "outputs": [],
   "source": [
    "var       = \"Temperature\"\n",
    "depth     = 25\n",
    "\n",
    "# Select the active samples\n",
    "depth_lim = c(depth,depth)\n",
    "db        = apply_sel(db0, depth_lim = depth_lim)\n",
    "\n",
    "# Average Temperature along Time\n",
    "res       = average_time(db , var, years)\n",
    "\n",
    "# Display results\n",
    "plot (years,res$means,type=\"b\",main=paste(\"Mean of\",var,\"at\",depth,\"m\"),\n",
    "      pch=15,lty=1,col=colyears)\n",
    "plot (years,res$vars ,type=\"b\",main=paste(\"Variance of\",var,\"at\",depth,\"m\"),\n",
    "      pch=15,lty=1,col=colyears)"
   ]
  },
  {
   "cell_type": "markdown",
   "metadata": {},
   "source": [
    "- calculating the mean and variance (for 2008) for each depth level (every 10m)"
   ]
  },
  {
   "cell_type": "code",
   "execution_count": null,
   "metadata": {},
   "outputs": [],
   "source": [
    "var       = \"Temperature\"\n",
    "year      = 2008\n",
    "\n",
    "# Select the active samples\n",
    "date_lim  = create_limits_date(year)\n",
    "db        = apply_sel(db0, date_lim = date_lim)\n",
    "\n",
    "# Average Temperature along Depth\n",
    "res       = average_depth(db , var, depth0=0, ddepth=10, ndepth=10)\n",
    "\n",
    "# Display the results\n",
    "plot(res$count,res$depths,type=\"b\",main=paste(\"Number of samples for\",var),pch=19,\n",
    "     xlab=\"Count of Samples\", ylab=\"Depth\", ylim=rev(range(res$depths)))\n",
    "plot(res$means,res$depths,type=\"b\",main=paste(\"Mean for\",var),pch=19,\n",
    "     xlab=\"Mean\", ylab=\"Depth\", ylim=rev(range(res$depths)))\n",
    "plot(res$vars ,res$depths,type=\"b\",main=paste(\"Variance for\",var),pch=19,\n",
    "     xlab=\"Variance\", ylab=\"Depth\", ylim=rev(range(res$depths)))"
   ]
  },
  {
   "cell_type": "markdown",
   "metadata": {},
   "source": [
    "# Variography\n",
    "\n",
    "From this point, all the calculations will be performed based on the values of **temperature** variable, measured in 2008.\n",
    "\n",
    "Calculate the average omni-directional horizontal variogram(s):\n",
    "\n",
    "- omni-directional"
   ]
  },
  {
   "cell_type": "code",
   "execution_count": null,
   "metadata": {},
   "outputs": [],
   "source": [
    "var       = \"Temperature\"\n",
    "year      = 2008\n",
    "\n",
    "# Select the active samples\n",
    "date_lim  = create_limits_date(year)\n",
    "db        = apply_sel(db0, date_lim = date_lim)\n",
    "db        = db.locate(db,var,\"z\")\n",
    "\n",
    "# Variogram parameters\n",
    "vario_lag  = 1\n",
    "vario_nlag = 20\n",
    "bench      = 5\n",
    "\n",
    "# Calculate the Experimental Variogram\n",
    "vario = prepar_vario(db, dirvect=NA, vario_lag = vario_lag, vario_nlag = vario_nlag, \n",
    "                     bench = bench, nbench = 0,\n",
    "                     draw.vario=TRUE, verbose=FALSE, npairpt=TRUE, cex=0.7)"
   ]
  },
  {
   "cell_type": "markdown",
   "metadata": {},
   "source": [
    "- in 4 directions"
   ]
  },
  {
   "cell_type": "code",
   "execution_count": null,
   "metadata": {},
   "outputs": [],
   "source": [
    "var  = \"Temperature\"\n",
    "year = 2008\n",
    "\n",
    "# Select the active samples\n",
    "date_lim  = create_limits_date(year)\n",
    "db        = apply_sel(db0, date_lim = date_lim)\n",
    "db        = db.locate(db,var,\"z\")\n",
    "\n",
    "# Variogram parameters\n",
    "vario_lag  = 1\n",
    "vario_nlag = 20\n",
    "bench      = 5\n",
    "\n",
    "# Calculate the Experimental Variogram\n",
    "vario4d = prepar_vario(db, vario_lag = vario_lag, vario_nlag = vario_nlag, \n",
    "                       dirvect=c(0,45,90,135), bench = bench, nbench = 0,\n",
    "                       draw.vario=TRUE, verbose=FALSE, npairdw=TRUE, pos.legend=1)"
   ]
  },
  {
   "cell_type": "markdown",
   "metadata": {},
   "source": [
    "We fit the model (using an automatic fitting procedure)"
   ]
  },
  {
   "cell_type": "code",
   "execution_count": null,
   "metadata": {},
   "outputs": [],
   "source": [
    "model = model.auto(vario4d, struct = c(1,2,3), verbose=FALSE, pos.legend=1)"
   ]
  },
  {
   "cell_type": "markdown",
   "metadata": {},
   "source": [
    "These two steps are regrouped in the method **prepar_model**.\n",
    "\n",
    "# Cross-validation\n",
    "\n",
    "We consider the **temperature** variable for year 2008, at 25m depth. \n",
    "This step performs a cross-validation. It includes a calculation of the experimental variogram and the model fitting step. It finally presents a display of the standardized errors (absolute value)."
   ]
  },
  {
   "cell_type": "code",
   "execution_count": null,
   "metadata": {
    "attributes": {
     "": "",
     "classes": [],
     "id": ""
    }
   },
   "outputs": [],
   "source": [
    "var       = \"Temperature\"\n",
    "year      = 2008\n",
    "depth     = 25\n",
    "\n",
    "# Select the active samples\n",
    "depth_lim = c(depth,depth)\n",
    "date_lim  = create_limits_date(year, trimester=2)\n",
    "dbc       = apply_sel(db0, depth_lim = depth_lim, date_lim = date_lim, compress=TRUE)\n",
    "\n",
    "# Variogram parameters\n",
    "vario_lag  = 1\n",
    "vario_nlag = 20\n",
    "bench      = 5\n",
    "\n",
    "# Perform the Cross-validation\n",
    "dbp       = xvalid_2D(dbc, var,  \n",
    "                      vario_lag = vario_lag, vario_nlag = vario_nlag, struct = c(1,3,5,12), \n",
    "                      bench = bench, nbench = 0, dirvect = NA, draw.model=TRUE, radix=\"Xvalid\")\n",
    "\n",
    "# Print the results\n",
    "db.stat.print(dbp,names=\"Xvalid*\",funs=c(\"num\",\"mean\",\"var\"),title=\"Cross-Validation Scores\")\n",
    "\n",
    "# Plot the results\n",
    "filename  = paste0(\"Xvalid_\",var,\".\",year)\n",
    "display_var(dbp, var = \"*stderr\", title = var, flag.xvalid = TRUE, colors=rainbow(100),\n",
    "            filename = filename, pos.legend=7)"
   ]
  },
  {
   "cell_type": "markdown",
   "metadata": {},
   "source": [
    "# Interpolation\n",
    "\n",
    "We consider the **Temperature** variable for year 2008, at 25m depth. \n",
    "This step performs an interpolation at the nodes of a regular grid. It includes a calculation of the experimental variogram and the model fitting step. It finally presents a display of the standardized errors (absolute value)."
   ]
  },
  {
   "cell_type": "code",
   "execution_count": null,
   "metadata": {
    "attributes": {
     "": "",
     "classes": [],
     "id": ""
    }
   },
   "outputs": [],
   "source": [
    "var       = \"Temperature\"\n",
    "year      = 2008\n",
    "depth     = 25\n",
    "\n",
    "# Select the active samples\n",
    "depth_lim = c(depth,depth)\n",
    "date_lim  = create_limits_date(year, trimester=2)\n",
    "dbc       = apply_sel(db0, depth_lim = depth_lim, date_lim = date_lim, compress=TRUE)\n",
    "\n",
    "# Variogram parameters\n",
    "vario_lag  = 1\n",
    "vario_nlag = 20\n",
    "bench      = 5\n",
    "\n",
    "# Perform the Interpolation\n",
    "dbg = interpolate_2D(dbc, var, mesh = 0.1, \n",
    "                     vario_lag = vario_lag, vario_nlag = vario_nlag, struct = c(1,3,5,12), \n",
    "                     bench = bench, nbench = 0, dirvect = NA, draw.model=TRUE, pos.legend=1)\n",
    "\n",
    "# Display results\n",
    "filename  = paste0(\"Estim_\",var,\".\",year)\n",
    "display_result(dbc, dbg, var = var, depth = depth, flag.estim = TRUE,  colors= colors.temp,\n",
    "               filename = filename, pos.legend=7)\n",
    "filename  = paste0(\"Stdev\",var,\".\",year)\n",
    "display_result(dbc, dbg, var = var, depth = depth, flag.estim = FALSE, \n",
    "               colors = colors.std, filename = filename, pos.legend=7)"
   ]
  }
 ],
 "metadata": {
  "kernelspec": {
   "display_name": "R",
   "language": "R",
   "name": "ir"
  },
  "language_info": {
   "codemirror_mode": "r",
   "file_extension": ".r",
   "mimetype": "text/x-r-source",
   "name": "R",
   "pygments_lexer": "r",
   "version": "3.3.2"
  }
 },
 "nbformat": 4,
 "nbformat_minor": 2
}
